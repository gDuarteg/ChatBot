{
 "cells": [
  {
   "cell_type": "code",
   "execution_count": 53,
   "metadata": {},
   "outputs": [],
   "source": [
    "import pandas as pd\n",
    "from sklearn.feature_extraction.text import CountVectorizer\n",
    "from sklearn.naive_bayes import MultinomialNB\n",
    "from sklearn.model_selection import train_test_split"
   ]
  },
  {
   "cell_type": "code",
   "execution_count": 54,
   "metadata": {},
   "outputs": [],
   "source": [
    "df = pd.read_csv('sentencas.csv').drop(columns=['Timestamp'])"
   ]
  },
  {
   "cell_type": "code",
   "execution_count": 55,
   "metadata": {},
   "outputs": [
    {
     "data": {
      "text/html": [
       "<div>\n",
       "<style scoped>\n",
       "    .dataframe tbody tr th:only-of-type {\n",
       "        vertical-align: middle;\n",
       "    }\n",
       "\n",
       "    .dataframe tbody tr th {\n",
       "        vertical-align: top;\n",
       "    }\n",
       "\n",
       "    .dataframe thead th {\n",
       "        text-align: right;\n",
       "    }\n",
       "</style>\n",
       "<table border=\"1\" class=\"dataframe\">\n",
       "  <thead>\n",
       "    <tr style=\"text-align: right;\">\n",
       "      <th></th>\n",
       "      <th>Intenção</th>\n",
       "      <th>Sentença</th>\n",
       "    </tr>\n",
       "  </thead>\n",
       "  <tbody>\n",
       "    <tr>\n",
       "      <th>0</th>\n",
       "      <td>Consultar saldo da conta</td>\n",
       "      <td>Qual o meu saldo</td>\n",
       "    </tr>\n",
       "    <tr>\n",
       "      <th>1</th>\n",
       "      <td>Interagir com a luz ou o ar-condicionado</td>\n",
       "      <td>Ligue a luz</td>\n",
       "    </tr>\n",
       "    <tr>\n",
       "      <th>2</th>\n",
       "      <td>Consultar saldo da conta</td>\n",
       "      <td>Me diga meu saldo</td>\n",
       "    </tr>\n",
       "    <tr>\n",
       "      <th>3</th>\n",
       "      <td>Consultar saldo da conta</td>\n",
       "      <td>Qual o meu saldo?</td>\n",
       "    </tr>\n",
       "    <tr>\n",
       "      <th>4</th>\n",
       "      <td>Interagir com a luz ou o ar-condicionado</td>\n",
       "      <td>está muito claro</td>\n",
       "    </tr>\n",
       "  </tbody>\n",
       "</table>\n",
       "</div>"
      ],
      "text/plain": [
       "                                   Intenção           Sentença\n",
       "0                  Consultar saldo da conta   Qual o meu saldo\n",
       "1  Interagir com a luz ou o ar-condicionado        Ligue a luz\n",
       "2                  Consultar saldo da conta  Me diga meu saldo\n",
       "3                  Consultar saldo da conta  Qual o meu saldo?\n",
       "4  Interagir com a luz ou o ar-condicionado   está muito claro"
      ]
     },
     "execution_count": 55,
     "metadata": {},
     "output_type": "execute_result"
    }
   ],
   "source": [
    "df.head()"
   ]
  },
  {
   "cell_type": "code",
   "execution_count": 56,
   "metadata": {},
   "outputs": [],
   "source": [
    "def clean(txt):\n",
    "    txt = txt.lower()\n",
    "    lixo = [\",\", \"-\", \"foxbot\", \".\"]\n",
    "    for s in lixo:\n",
    "        txt = txt.replace(s, \"\")\n",
    "    return txt\n",
    "\n",
    "df[\"Sentença\"] = df[\"Sentença\"].apply(clean)\n"
   ]
  },
  {
   "cell_type": "code",
   "execution_count": 57,
   "metadata": {},
   "outputs": [],
   "source": [
    "train, test = train_test_split(df, test_size=0.15)\n",
    "vectorizer = CountVectorizer()\n",
    "textos = train['Sentença'].tolist()\n",
    "counts = vectorizer.fit_transform(textos)\n",
    "# s1 = counts[0].todense().tolist()[0]\n",
    "# reverse_vocabulary = {y:x for x, y in vectorizer.vocabulary_.items()}\n",
    "# test"
   ]
  },
  {
   "cell_type": "code",
   "execution_count": 58,
   "metadata": {},
   "outputs": [],
   "source": [
    "# for k, s in enumerate(s1):\n",
    "#     if s == 1:\n",
    "#         print(reverse_vocabulary[k])"
   ]
  },
  {
   "cell_type": "code",
   "execution_count": 59,
   "metadata": {},
   "outputs": [
    {
     "data": {
      "text/plain": [
       "Interagir com a luz ou o ar-condicionado    43\n",
       "Obter informações relativas ao clima        35\n",
       "Consultar saldo da conta                    27\n",
       "Name: Intenção, dtype: int64"
      ]
     },
     "execution_count": 59,
     "metadata": {},
     "output_type": "execute_result"
    }
   ],
   "source": [
    "y = train['Intenção']\n",
    "y.value_counts()"
   ]
  },
  {
   "cell_type": "code",
   "execution_count": 60,
   "metadata": {},
   "outputs": [
    {
     "data": {
      "text/plain": [
       "MultinomialNB()"
      ]
     },
     "execution_count": 60,
     "metadata": {},
     "output_type": "execute_result"
    }
   ],
   "source": [
    "model = MultinomialNB()\n",
    "model.fit(counts, y)\n"
   ]
  },
  {
   "cell_type": "code",
   "execution_count": 61,
   "metadata": {
    "scrolled": true
   },
   "outputs": [
    {
     "data": {
      "text/plain": [
       "88      True\n",
       "74      True\n",
       "48      True\n",
       "40     False\n",
       "103     True\n",
       "5       True\n",
       "12      True\n",
       "47      True\n",
       "3       True\n",
       "44      True\n",
       "111     True\n",
       "69      True\n",
       "90     False\n",
       "61      True\n",
       "95      True\n",
       "78      True\n",
       "68      True\n",
       "77      True\n",
       "112     True\n",
       "dtype: bool"
      ]
     },
     "execution_count": 61,
     "metadata": {},
     "output_type": "execute_result"
    }
   ],
   "source": [
    "def predict(txt):\n",
    "    counts_da_nova_sentenca = vectorizer.transform([txt])\n",
    "    req = model.predict(counts_da_nova_sentenca)[0]\n",
    "    return req\n",
    "\n",
    "test[\"Sentença\"].apply(predict) == test[\"Intenção\"]"
   ]
  },
  {
   "cell_type": "code",
   "execution_count": 62,
   "metadata": {},
   "outputs": [
    {
     "data": {
      "text/plain": [
       "'Interagir com a luz ou o ar-condicionado'"
      ]
     },
     "execution_count": 62,
     "metadata": {},
     "output_type": "execute_result"
    }
   ],
   "source": [
    "predict(\"to com frio\")"
   ]
  },
  {
   "cell_type": "code",
   "execution_count": null,
   "metadata": {},
   "outputs": [],
   "source": []
  },
  {
   "cell_type": "code",
   "execution_count": null,
   "metadata": {},
   "outputs": [],
   "source": []
  },
  {
   "cell_type": "code",
   "execution_count": null,
   "metadata": {},
   "outputs": [],
   "source": []
  }
 ],
 "metadata": {
  "kernelspec": {
   "display_name": "Python 3",
   "language": "python",
   "name": "python3"
  },
  "language_info": {
   "codemirror_mode": {
    "name": "ipython",
    "version": 3
   },
   "file_extension": ".py",
   "mimetype": "text/x-python",
   "name": "python",
   "nbconvert_exporter": "python",
   "pygments_lexer": "ipython3",
   "version": "3.8.5"
  }
 },
 "nbformat": 4,
 "nbformat_minor": 4
}
