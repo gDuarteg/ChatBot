{
 "cells": [
  {
   "cell_type": "code",
   "execution_count": 67,
   "metadata": {},
   "outputs": [],
   "source": [
    "import pandas as pd\n",
    "from sklearn.feature_extraction.text import CountVectorizer\n",
    "from sklearn.naive_bayes import MultinomialNB"
   ]
  },
  {
   "cell_type": "code",
   "execution_count": 68,
   "metadata": {},
   "outputs": [],
   "source": [
    "df = pd.read_csv('sentencas.csv').drop(columns=['Timestamp'])"
   ]
  },
  {
   "cell_type": "code",
   "execution_count": 89,
   "metadata": {},
   "outputs": [
    {
     "data": {
      "text/html": [
       "<div>\n",
       "<style scoped>\n",
       "    .dataframe tbody tr th:only-of-type {\n",
       "        vertical-align: middle;\n",
       "    }\n",
       "\n",
       "    .dataframe tbody tr th {\n",
       "        vertical-align: top;\n",
       "    }\n",
       "\n",
       "    .dataframe thead th {\n",
       "        text-align: right;\n",
       "    }\n",
       "</style>\n",
       "<table border=\"1\" class=\"dataframe\">\n",
       "  <thead>\n",
       "    <tr style=\"text-align: right;\">\n",
       "      <th></th>\n",
       "      <th>Intenção</th>\n",
       "      <th>Sentença</th>\n",
       "    </tr>\n",
       "  </thead>\n",
       "  <tbody>\n",
       "    <tr>\n",
       "      <th>0</th>\n",
       "      <td>Consultar saldo da conta</td>\n",
       "      <td>Qual o meu saldo</td>\n",
       "    </tr>\n",
       "    <tr>\n",
       "      <th>1</th>\n",
       "      <td>Interagir com a luz ou o ar-condicionado</td>\n",
       "      <td>Ligue a luz</td>\n",
       "    </tr>\n",
       "    <tr>\n",
       "      <th>2</th>\n",
       "      <td>Consultar saldo da conta</td>\n",
       "      <td>Me diga meu saldo</td>\n",
       "    </tr>\n",
       "    <tr>\n",
       "      <th>3</th>\n",
       "      <td>Consultar saldo da conta</td>\n",
       "      <td>Qual o meu saldo?</td>\n",
       "    </tr>\n",
       "    <tr>\n",
       "      <th>4</th>\n",
       "      <td>Interagir com a luz ou o ar-condicionado</td>\n",
       "      <td>está muito claro</td>\n",
       "    </tr>\n",
       "    <tr>\n",
       "      <th>5</th>\n",
       "      <td>Obter informações relativas ao clima</td>\n",
       "      <td>vai chover?</td>\n",
       "    </tr>\n",
       "    <tr>\n",
       "      <th>6</th>\n",
       "      <td>Obter informações relativas ao clima</td>\n",
       "      <td>Qual o clima amanhã?</td>\n",
       "    </tr>\n",
       "    <tr>\n",
       "      <th>7</th>\n",
       "      <td>Interagir com a luz ou o ar-condicionado</td>\n",
       "      <td>aumente a temperatura</td>\n",
       "    </tr>\n",
       "    <tr>\n",
       "      <th>8</th>\n",
       "      <td>Obter informações relativas ao clima</td>\n",
       "      <td>Qual a temperatura?</td>\n",
       "    </tr>\n",
       "    <tr>\n",
       "      <th>9</th>\n",
       "      <td>Interagir com a luz ou o ar-condicionado</td>\n",
       "      <td>Foxbot, apague a luz</td>\n",
       "    </tr>\n",
       "    <tr>\n",
       "      <th>10</th>\n",
       "      <td>Interagir com a luz ou o ar-condicionado</td>\n",
       "      <td>estou com frio</td>\n",
       "    </tr>\n",
       "    <tr>\n",
       "      <th>11</th>\n",
       "      <td>Obter informações relativas ao clima</td>\n",
       "      <td>vai fazer sol hoje?</td>\n",
       "    </tr>\n",
       "    <tr>\n",
       "      <th>12</th>\n",
       "      <td>Interagir com a luz ou o ar-condicionado</td>\n",
       "      <td>Desligue a luz</td>\n",
       "    </tr>\n",
       "    <tr>\n",
       "      <th>13</th>\n",
       "      <td>Interagir com a luz ou o ar-condicionado</td>\n",
       "      <td>Acenda a luz</td>\n",
       "    </tr>\n",
       "  </tbody>\n",
       "</table>\n",
       "</div>"
      ],
      "text/plain": [
       "                                    Intenção               Sentença\n",
       "0                   Consultar saldo da conta       Qual o meu saldo\n",
       "1   Interagir com a luz ou o ar-condicionado            Ligue a luz\n",
       "2                   Consultar saldo da conta      Me diga meu saldo\n",
       "3                   Consultar saldo da conta      Qual o meu saldo?\n",
       "4   Interagir com a luz ou o ar-condicionado       está muito claro\n",
       "5       Obter informações relativas ao clima            vai chover?\n",
       "6       Obter informações relativas ao clima   Qual o clima amanhã?\n",
       "7   Interagir com a luz ou o ar-condicionado  aumente a temperatura\n",
       "8       Obter informações relativas ao clima    Qual a temperatura?\n",
       "9   Interagir com a luz ou o ar-condicionado   Foxbot, apague a luz\n",
       "10  Interagir com a luz ou o ar-condicionado         estou com frio\n",
       "11      Obter informações relativas ao clima    vai fazer sol hoje?\n",
       "12  Interagir com a luz ou o ar-condicionado         Desligue a luz\n",
       "13  Interagir com a luz ou o ar-condicionado           Acenda a luz"
      ]
     },
     "execution_count": 89,
     "metadata": {},
     "output_type": "execute_result"
    }
   ],
   "source": [
    "df.head(14)"
   ]
  },
  {
   "cell_type": "code",
   "execution_count": 70,
   "metadata": {},
   "outputs": [],
   "source": [
    "vectorizer = CountVectorizer()\n",
    "textos = df['Sentença'].tolist()\n",
    "counts = vectorizer.fit_transform(textos)\n",
    "s1 = counts[0].todense().tolist()[0]\n",
    "reverse_vocabulary = {y:x for x, y in vectorizer.vocabulary_.items()}"
   ]
  },
  {
   "cell_type": "code",
   "execution_count": 71,
   "metadata": {},
   "outputs": [
    {
     "name": "stdout",
     "output_type": "stream",
     "text": [
      "meu\n",
      "qual\n",
      "saldo\n"
     ]
    }
   ],
   "source": [
    "for k, s in enumerate(s1):\n",
    "    if s == 1:\n",
    "        print(reverse_vocabulary[k])"
   ]
  },
  {
   "cell_type": "code",
   "execution_count": 75,
   "metadata": {},
   "outputs": [
    {
     "data": {
      "text/plain": [
       "MultinomialNB()"
      ]
     },
     "execution_count": 75,
     "metadata": {},
     "output_type": "execute_result"
    }
   ],
   "source": [
    "y = df['Intenção']\n",
    "y.value_counts()\n",
    "model = MultinomialNB()\n",
    "model.fit(counts, y)"
   ]
  },
  {
   "cell_type": "code",
   "execution_count": 97,
   "metadata": {
    "scrolled": true
   },
   "outputs": [
    {
     "name": "stdout",
     "output_type": "stream",
     "text": [
      "  (0, 36)\t1\n",
      "  (0, 79)\t1\n",
      "Interagir com a luz ou o ar-condicionado\n"
     ]
    }
   ],
   "source": [
    "nova_sentenca = 'to com frio'\n",
    "counts_da_nova_sentenca = vectorizer.transform([nova_sentenca])\n",
    "req = model.predict(counts_da_nova_sentenca)[0]\n",
    "print(counts_da_nova_sentenca)\n",
    "print(req)"
   ]
  },
  {
   "cell_type": "code",
   "execution_count": null,
   "metadata": {},
   "outputs": [],
   "source": []
  },
  {
   "cell_type": "code",
   "execution_count": null,
   "metadata": {},
   "outputs": [],
   "source": []
  },
  {
   "cell_type": "code",
   "execution_count": null,
   "metadata": {},
   "outputs": [],
   "source": []
  },
  {
   "cell_type": "code",
   "execution_count": null,
   "metadata": {},
   "outputs": [],
   "source": []
  }
 ],
 "metadata": {
  "kernelspec": {
   "display_name": "Python 3",
   "language": "python",
   "name": "python3"
  },
  "language_info": {
   "codemirror_mode": {
    "name": "ipython",
    "version": 3
   },
   "file_extension": ".py",
   "mimetype": "text/x-python",
   "name": "python",
   "nbconvert_exporter": "python",
   "pygments_lexer": "ipython3",
   "version": "3.8.5"
  }
 },
 "nbformat": 4,
 "nbformat_minor": 4
}
